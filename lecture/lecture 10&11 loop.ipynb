{
 "cells": [
  {
   "cell_type": "markdown",
   "metadata": {
    "slideshow": {
     "slide_type": "slide"
    }
   },
   "source": [
    "# Programming for Physics\n",
    "<hr style=\"height: 2px; border-width: 0; color: gray; background-color: gray;\" />\n",
    "\n",
    "   &emsp;&emsp;&emsp;&emsp; __Lecture 10 & 11__ &mdash; Flow Control - Branching and Loops Part II\n"
   ]
  },
  {
   "cell_type": "markdown",
   "metadata": {
    "slideshow": {
     "slide_type": "slide"
    }
   },
   "source": [
    "# Today's Plan\n",
    "\n",
    "- Recap\n",
    "- Loops\n",
    "- More physics examples (Next Week)"
   ]
  },
  {
   "cell_type": "markdown",
   "metadata": {
    "slideshow": {
     "slide_type": "skip"
    }
   },
   "source": []
  },
  {
   "cell_type": "markdown",
   "metadata": {
    "cell_style": "split",
    "slideshow": {
     "slide_type": "slide"
    }
   },
   "source": [
    "# Loops\n",
    "\n",
    "Loops are used for iterating blocks of codes\n",
    "\n",
    "Example:\n",
    "\n",
    "- To determine if 32424913 is a prime number\n",
    "\n",
    "- find the largest number in a list\n",
    "\n",
    "- keeping ask user to input the password until it is valid\n",
    "\n",
    "...\n",
    "\n",
    "one of the main difference between computer and human"
   ]
  },
  {
   "cell_type": "markdown",
   "metadata": {
    "cell_style": "split",
    "slideshow": {
     "slide_type": "fragment"
    }
   },
   "source": [
    "- when a condition is satisfied: __while__\n",
    "- for a fixed number of times: __for__\n"
   ]
  },
  {
   "cell_type": "code",
   "execution_count": null,
   "metadata": {
    "slideshow": {
     "slide_type": "skip"
    }
   },
   "outputs": [],
   "source": []
  },
  {
   "attachments": {
    "while0.svg": {
     "image/svg+xml": [
      "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"
     ]
    }
   },
   "cell_type": "markdown",
   "metadata": {
    "cell_style": "split",
    "slideshow": {
     "slide_type": "slide"
    }
   },
   "source": [
    "## While Loops\n",
    "\n",
    "![while0.svg](attachment:while0.svg)\n",
    "\n",
    "__Indent__\n",
    "\n",
    "statement 1&2 are in the while block\n",
    "\n",
    "__colon__"
   ]
  },
  {
   "cell_type": "markdown",
   "metadata": {
    "cell_style": "split",
    "slideshow": {
     "slide_type": "fragment"
    }
   },
   "source": [
    "#### Example\n",
    "A ball is moving at 5 m/s towards a wall that is 50 m away. Print the ball's location every second before it hits the wall."
   ]
  },
  {
   "cell_type": "code",
   "execution_count": null,
   "metadata": {
    "cell_style": "split"
   },
   "outputs": [],
   "source": []
  },
  {
   "cell_type": "code",
   "execution_count": 7,
   "metadata": {
    "cell_style": "split",
    "slideshow": {
     "slide_type": "skip"
    }
   },
   "outputs": [
    {
     "name": "stdout",
     "output_type": "stream",
     "text": [
      "5\n",
      "10\n",
      "15\n",
      "20\n",
      "25\n",
      "30\n",
      "35\n",
      "40\n",
      "45\n",
      "50\n",
      "the ball has reached the wall\n"
     ]
    }
   ],
   "source": [
    "pos = 0\n",
    "while pos<50:\n",
    "    pos = pos + 5\n",
    "    print(pos)\n",
    " "
   ]
  },
  {
   "cell_type": "code",
   "execution_count": 4,
   "metadata": {},
   "outputs": [
    {
     "name": "stdout",
     "output_type": "stream",
     "text": [
      "⚽🍀🍀🍀🍀🍀🍀🍀🍀🍀🍀🍀🍀🍀🍀🍀🍀🍀🍀🍀🧱\n",
      "🍀⚽🍀🍀🍀🍀🍀🍀🍀🍀🍀🍀🍀🍀🍀🍀🍀🍀🍀🍀🧱\n",
      "🍀🍀⚽🍀🍀🍀🍀🍀🍀🍀🍀🍀🍀🍀🍀🍀🍀🍀🍀🍀🧱\n",
      "🍀🍀🍀⚽🍀🍀🍀🍀🍀🍀🍀🍀🍀🍀🍀🍀🍀🍀🍀🍀🧱\n",
      "🍀🍀🍀🍀⚽🍀🍀🍀🍀🍀🍀🍀🍀🍀🍀🍀🍀🍀🍀🍀🧱\n",
      "🍀🍀🍀🍀🍀⚽🍀🍀🍀🍀🍀🍀🍀🍀🍀🍀🍀🍀🍀🍀🧱\n",
      "🍀🍀🍀🍀🍀🍀⚽🍀🍀🍀🍀🍀🍀🍀🍀🍀🍀🍀🍀🍀🧱\n",
      "🍀🍀🍀🍀🍀🍀🍀⚽🍀🍀🍀🍀🍀🍀🍀🍀🍀🍀🍀🍀🧱\n",
      "🍀🍀🍀🍀🍀🍀🍀🍀⚽🍀🍀🍀🍀🍀🍀🍀🍀🍀🍀🍀🧱\n",
      "🍀🍀🍀🍀🍀🍀🍀🍀🍀⚽🍀🍀🍀🍀🍀🍀🍀🍀🍀🍀🧱\n",
      "🍀🍀🍀🍀🍀🍀🍀🍀🍀🍀⚽🍀🍀🍀🍀🍀🍀🍀🍀🍀🧱\n",
      "🍀🍀🍀🍀🍀🍀🍀🍀🍀🍀🍀⚽🍀🍀🍀🍀🍀🍀🍀🍀🧱\n",
      "🍀🍀🍀🍀🍀🍀🍀🍀🍀🍀🍀🍀⚽🍀🍀🍀🍀🍀🍀🍀🧱\n",
      "🍀🍀🍀🍀🍀🍀🍀🍀🍀🍀🍀🍀🍀⚽🍀🍀🍀🍀🍀🍀🧱\n",
      "🍀🍀🍀🍀🍀🍀🍀🍀🍀🍀🍀🍀🍀🍀⚽🍀🍀🍀🍀🍀🧱\n",
      "🍀🍀🍀🍀🍀🍀🍀🍀🍀🍀🍀🍀🍀🍀🍀⚽🍀🍀🍀🍀🧱\n",
      "🍀🍀🍀🍀🍀🍀🍀🍀🍀🍀🍀🍀🍀🍀🍀🍀⚽🍀🍀🍀🧱\n",
      "🍀🍀🍀🍀🍀🍀🍀🍀🍀🍀🍀🍀🍀🍀🍀🍀🍀⚽🍀🍀🧱\n",
      "🍀🍀🍀🍀🍀🍀🍀🍀🍀🍀🍀🍀🍀🍀🍀🍀🍀🍀⚽🍀🧱\n",
      "🍀🍀🍀🍀🍀🍀🍀🍀🍀🍀🍀🍀🍀🍀🍀🍀🍀🍀🍀⚽🧱\n"
     ]
    }
   ],
   "source": [
    "#make the code more interesting\n",
    "background=['🍀']*20 + ['🧱']\n",
    "pos=0\n",
    "while pos<20:\n",
    "    ball = background.copy() #try ball=backgroud without the copy. what will happen?\n",
    "    ball[pos]='⚽'\n",
    "    print(''.join(ball)) #string join method to join the elements in the ball list, print the string each iteration\n",
    "    pos=pos+1"
   ]
  },
  {
   "cell_type": "code",
   "execution_count": 8,
   "metadata": {},
   "outputs": [
    {
     "name": "stdout",
     "output_type": "stream",
     "text": [
      "🍀🍀🍀🍀🍀🍀🍀🍀🍀🍀🍀🍀🍀🍀🍀🍀🍀🍀🍀⚽🧱\n"
     ]
    }
   ],
   "source": [
    "#make the code more interesting\n",
    "#run this cell please\n",
    "from IPython.display import clear_output\n",
    "import time\n",
    "\n",
    "background=['🍀']*20 + ['🧱']\n",
    "pos=0\n",
    "while pos<20:\n",
    "    ball = background.copy() #try ball=backgroud without the copy. what will happen?\n",
    "    ball[pos]='⚽'\n",
    "    print(''.join(ball)) #string join method to join the elements in the ball list, print the string each iteration\n",
    "    pos=pos+1\n",
    "    clear_output(wait=True) #clear output before new output\n",
    "    time.sleep(0.25) #wait for 0.25s between iterations"
   ]
  },
  {
   "cell_type": "markdown",
   "metadata": {
    "cell_style": "center",
    "slideshow": {
     "slide_type": "fragment"
    }
   },
   "source": [
    "#### Exercise\n",
    "\n",
    "Print the player's input until the player inputs 'stop'."
   ]
  },
  {
   "cell_type": "code",
   "execution_count": 8,
   "metadata": {
    "slideshow": {
     "slide_type": "skip"
    }
   },
   "outputs": [
    {
     "name": "stdout",
     "output_type": "stream",
     "text": [
      "input a message: hello\n",
      "input a message: hello there\n",
      "input a message: who are you\n",
      "input a message: stop\n"
     ]
    }
   ],
   "source": [
    "mss = ''\n",
    "while mss!='stop':\n",
    "    mss = input('input a message: ')"
   ]
  },
  {
   "cell_type": "markdown",
   "metadata": {
    "slideshow": {
     "slide_type": "slide"
    }
   },
   "source": [
    "check if a number is a prime number"
   ]
  },
  {
   "cell_type": "code",
   "execution_count": 1,
   "metadata": {
    "slideshow": {
     "slide_type": "skip"
    }
   },
   "outputs": [
    {
     "name": "stdout",
     "output_type": "stream",
     "text": [
      "False\n",
      "[1, 1232476]\n"
     ]
    }
   ],
   "source": [
    "num = 1232476\n",
    "is_prime = True\n",
    "factor=2\n",
    "list_factor=[1,num]\n",
    "while factor<num:\n",
    "    if num % factor ==0: #true if factor is a factor \n",
    "        is_prime = False # then num is not a prime number\n",
    "        list_factor.append(factor) #put the factor into a list\n",
    "    factor=factor+1\n",
    "print(is_prime)\n",
    "print(list_factor)"
   ]
  },
  {
   "cell_type": "code",
   "execution_count": null,
   "metadata": {
    "slideshow": {
     "slide_type": "skip"
    }
   },
   "outputs": [],
   "source": []
  },
  {
   "attachments": {
    "for0.svg": {
     "image/svg+xml": [
      "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"
     ]
    }
   },
   "cell_type": "markdown",
   "metadata": {
    "cell_style": "split",
    "slideshow": {
     "slide_type": "slide"
    }
   },
   "source": [
    "# For Loops\n",
    "![for0.svg](attachment:for0.svg)\n",
    "- sequence can be a container of variables or a string\n",
    "- range(start,end,step) returns an integer sequence"
   ]
  },
  {
   "cell_type": "code",
   "execution_count": 20,
   "metadata": {
    "ExecuteTime": {
     "end_time": "2020-09-18T02:21:07.631460Z",
     "start_time": "2020-09-18T02:21:07.624610Z"
    },
    "cell_style": "split",
    "slideshow": {
     "slide_type": "skip"
    }
   },
   "outputs": [
    {
     "name": "stdout",
     "output_type": "stream",
     "text": [
      "a\n",
      "p\n",
      "p\n",
      "l\n",
      "e\n"
     ]
    }
   ],
   "source": [
    "a = 'apple'\n",
    "for m in a: # a is the sequence in this case a string\n",
    "    print(m)"
   ]
  },
  {
   "cell_type": "markdown",
   "metadata": {
    "cell_style": "center",
    "slideshow": {
     "slide_type": "slide"
    }
   },
   "source": [
    "### Exercise:\n",
    "\n",
    "input a sequence of numbers from the keyboard separated by comma. Store these __numbers__ in a list."
   ]
  },
  {
   "cell_type": "code",
   "execution_count": 25,
   "metadata": {
    "slideshow": {
     "slide_type": "skip"
    }
   },
   "outputs": [
    {
     "name": "stdout",
     "output_type": "stream",
     "text": [
      "input some numbers separated by comma:3232,12,33\n",
      "['3232', '12', '33']\n",
      "[3232.0, 12.0, 33.0]\n"
     ]
    }
   ],
   "source": [
    "str1 = input('input some numbers separated by comma:')\n",
    "list_str = str1.split(',') #list of strings\n",
    "list_num = []\n",
    "for x in list_str:\n",
    "    y = float(x)\n",
    "    list_num.append(y)\n",
    "print(list_str)\n",
    "print(list_num)"
   ]
  },
  {
   "cell_type": "code",
   "execution_count": null,
   "metadata": {
    "slideshow": {
     "slide_type": "skip"
    }
   },
   "outputs": [],
   "source": []
  },
  {
   "cell_type": "markdown",
   "metadata": {
    "cell_style": "split",
    "slideshow": {
     "slide_type": "slide"
    }
   },
   "source": [
    "### range function\n",
    "- range(start,end,step) returns an integer sequence\n",
    "\n",
    "start, start+step, start+2step, start+3step, ... end-1"
   ]
  },
  {
   "cell_type": "code",
   "execution_count": 28,
   "metadata": {
    "cell_style": "split",
    "slideshow": {
     "slide_type": "skip"
    }
   },
   "outputs": [
    {
     "name": "stdout",
     "output_type": "stream",
     "text": [
      "1\n",
      "3\n",
      "5\n",
      "7\n",
      "9\n"
     ]
    }
   ],
   "source": [
    "for x in range(1,10,2):\n",
    "    print(x)"
   ]
  },
  {
   "cell_type": "markdown",
   "metadata": {
    "cell_style": "center",
    "slideshow": {
     "slide_type": "slide"
    }
   },
   "source": [
    "#### Example\n",
    "calculate $n!=1\\times 2\\times 3 \\times 4 \\cdots n$"
   ]
  },
  {
   "cell_type": "code",
   "execution_count": 34,
   "metadata": {
    "slideshow": {
     "slide_type": "skip"
    }
   },
   "outputs": [
    {
     "name": "stdout",
     "output_type": "stream",
     "text": [
      "1\n",
      "2\n",
      "6\n",
      "24\n",
      "120\n",
      "720\n",
      "5040\n",
      "40320\n",
      "362880\n",
      "3628800\n",
      "3628800\n"
     ]
    }
   ],
   "source": [
    "n=10\n",
    "f=1\n",
    "for x in range(1,n+1):\n",
    "    f = f*x\n",
    "    print(f)\n",
    "print(f)"
   ]
  },
  {
   "cell_type": "markdown",
   "metadata": {
    "cell_style": "center",
    "slideshow": {
     "slide_type": "slide"
    }
   },
   "source": [
    "calculate $1+2+3+...n$"
   ]
  },
  {
   "cell_type": "code",
   "execution_count": 32,
   "metadata": {
    "slideshow": {
     "slide_type": "skip"
    }
   },
   "outputs": [
    {
     "name": "stdout",
     "output_type": "stream",
     "text": [
      "1\n",
      "3\n",
      "6\n",
      "10\n",
      "15\n",
      "21\n",
      "28\n",
      "36\n",
      "45\n",
      "55\n",
      "55\n"
     ]
    }
   ],
   "source": [
    "n=10\n",
    "f=0\n",
    "for x in range(1,n+1):\n",
    "    f = f+x\n",
    "    print(f)\n",
    "print(f)"
   ]
  },
  {
   "cell_type": "markdown",
   "metadata": {
    "slideshow": {
     "slide_type": "slide"
    }
   },
   "source": [
    "Find the smallest value in a numerical list."
   ]
  },
  {
   "cell_type": "code",
   "execution_count": 2,
   "metadata": {
    "slideshow": {
     "slide_type": "skip"
    }
   },
   "outputs": [
    {
     "name": "stdout",
     "output_type": "stream",
     "text": [
      "-23\n"
     ]
    }
   ],
   "source": [
    "a=[33.3,10,-23,3]\n",
    "a_min=a[0]\n",
    "for x in a:\n",
    "    if x<a_min:\n",
    "        a_min=x\n",
    "print(a_min)"
   ]
  },
  {
   "attachments": {
    "break.svg": {
     "image/svg+xml": [
      "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"
     ]
    }
   },
   "cell_type": "markdown",
   "metadata": {
    "cell_style": "split",
    "slideshow": {
     "slide_type": "slide"
    }
   },
   "source": [
    "## Break and Continue\n",
    "![break.svg](attachment:break.svg)\n",
    "\n",
    "In a loop, for or while, break statement terminates the loop."
   ]
  },
  {
   "cell_type": "markdown",
   "metadata": {
    "ExecuteTime": {
     "end_time": "2020-09-18T03:48:20.145235Z",
     "start_time": "2020-09-18T03:48:20.137183Z"
    },
    "cell_style": "split",
    "slideshow": {
     "slide_type": "fragment"
    }
   },
   "source": [
    "Loop over a list and print the element. Terminate the loop when an element is not a string. "
   ]
  },
  {
   "cell_type": "markdown",
   "metadata": {
    "cell_style": "split",
    "slideshow": {
     "slide_type": "fragment"
    }
   },
   "source": [
    "#### Example\n",
    "Determine whether a number is a prime number."
   ]
  },
  {
   "cell_type": "code",
   "execution_count": 1,
   "metadata": {
    "cell_style": "split",
    "slideshow": {
     "slide_type": "skip"
    }
   },
   "outputs": [
    {
     "name": "stdout",
     "output_type": "stream",
     "text": [
      "3\n",
      "False\n"
     ]
    }
   ],
   "source": [
    "n=123\n",
    "is_prime = True\n",
    "factor=2\n",
    "while factor<n:\n",
    "    if n%factor ==0:\n",
    "        is_prime = False\n",
    "        break\n",
    "    factor=factor+1\n",
    "print(is_prime)"
   ]
  },
  {
   "cell_type": "code",
   "execution_count": null,
   "metadata": {
    "cell_style": "center",
    "slideshow": {
     "slide_type": "skip"
    }
   },
   "outputs": [],
   "source": []
  },
  {
   "attachments": {
    "continue.svg": {
     "image/svg+xml": [
      "PHN2ZyB3aWR0aD0iNTA3IiBoZWlnaHQ9IjU2MyIgeG1sbnM9Imh0dHA6Ly93d3cudzMub3JnLzIwMDAvc3ZnIiB4bWxuczp4bGluaz0iaHR0cDovL3d3dy53My5vcmcvMTk5OS94bGluayIgb3ZlcmZsb3c9ImhpZGRlbiI+PGRlZnM+PGNsaXBQYXRoIGlkPSJjbGlwMCI+PHJlY3QgeD0iNjYiIHk9IjEyMCIgd2lkdGg9IjUwNyIgaGVpZ2h0PSI1NjMiLz48L2NsaXBQYXRoPjwvZGVmcz48ZyBjbGlwLXBhdGg9InVybCgjY2xpcDApIiB0cmFuc2Zvcm09InRyYW5zbGF0ZSgtNjYgLTEyMCkiPjxyZWN0IHg9IjEwNS41IiB5PSIxNjUuNSIgd2lkdGg9IjI1MiIgaGVpZ2h0PSI0MCIgc3Ryb2tlPSIjMkQzNzU2IiBzdHJva2Utd2lkdGg9IjEuMzMzMzMiIHN0cm9rZS1taXRlcmxpbWl0PSI4IiBmaWxsPSIjNDE0RTc3Ii8+PHRleHQgZmlsbD0iI0ZGRkZGRiIgZm9udC1mYW1pbHk9IkNlbnR1cnkgR290aGljLENlbnR1cnkgR290aGljX01TRm9udFNlcnZpY2Usc2Fucy1zZXJpZiIgZm9udC13ZWlnaHQ9IjcwMCIgZm9udC1zaXplPSIyNCIgdHJhbnNmb3JtPSJ0cmFuc2xhdGUoMTUxLjc2NCAxOTUpIj4mbHQ7c3RhdGVtZW50MCZndDs8L3RleHQ+PHJlY3QgeD0iMTA1LjUiIHk9IjM2My41IiB3aWR0aD0iMjUyIiBoZWlnaHQ9IjQwIiBzdHJva2U9IiMyRDM3NTYiIHN0cm9rZS13aWR0aD0iMS4zMzMzMyIgc3Ryb2tlLW1pdGVybGltaXQ9IjgiIGZpbGw9IiM0MTRFNzciLz48dGV4dCBmaWxsPSIjRkZGRkZGIiBmb250LWZhbWlseT0iQ2VudHVyeSBHb3RoaWMsQ2VudHVyeSBHb3RoaWNfTVNGb250U2VydmljZSxzYW5zLXNlcmlmIiBmb250LXdlaWdodD0iNzAwIiBmb250LXNpemU9IjI0IiB0cmFuc2Zvcm09InRyYW5zbGF0ZSgxNTEuNzY0IDM5MykiPiZsdDtzdGF0ZW1lbnQxJmd0OzwvdGV4dD48cmVjdCB4PSIxMDUuNSIgeT0iNTEwLjUiIHdpZHRoPSIyNTIiIGhlaWdodD0iNDAiIHN0cm9rZT0iIzJEMzc1NiIgc3Ryb2tlLXdpZHRoPSIxLjMzMzMzIiBzdHJva2UtbWl0ZXJsaW1pdD0iOCIgZmlsbD0iIzQxNEU3NyIvPjx0ZXh0IGZpbGw9IiNGRkZGRkYiIGZvbnQtZmFtaWx5PSJDZW50dXJ5IEdvdGhpYyxDZW50dXJ5IEdvdGhpY19NU0ZvbnRTZXJ2aWNlLHNhbnMtc2VyaWYiIGZvbnQtd2VpZ2h0PSI3MDAiIGZvbnQtc2l6ZT0iMjQiIHRyYW5zZm9ybT0idHJhbnNsYXRlKDE1MS43NjQgNTM5KSI+Jmx0O3N0YXRlbWVudDImZ3Q7PC90ZXh0PjxyZWN0IHg9IjEwNS41IiB5PSI1OTkuNSIgd2lkdGg9IjI1MiIgaGVpZ2h0PSI0MCIgc3Ryb2tlPSIjMkQzNzU2IiBzdHJva2Utd2lkdGg9IjEuMzMzMzMiIHN0cm9rZS1taXRlcmxpbWl0PSI4IiBmaWxsPSIjNDE0RTc3Ii8+PHRleHQgZmlsbD0iI0ZGRkZGRiIgZm9udC1mYW1pbHk9IkNlbnR1cnkgR290aGljLENlbnR1cnkgR290aGljX01TRm9udFNlcnZpY2Usc2Fucy1zZXJpZiIgZm9udC13ZWlnaHQ9IjcwMCIgZm9udC1zaXplPSIyNCIgdHJhbnNmb3JtPSJ0cmFuc2xhdGUoMTUxLjc2NCA2MjkpIj4mbHQ7c3RhdGVtZW50MyZndDs8L3RleHQ+PHBhdGggZD0iTTE0MC41IDI5OS41IDIzMC41IDI2NS41IDMyMC41IDI5OS41IDIzMC41IDMzMy41WiIgc3Ryb2tlPSIjMkQzNzU2IiBzdHJva2Utd2lkdGg9IjEuMzMzMzMiIHN0cm9rZS1taXRlcmxpbWl0PSI4IiBmaWxsPSIjNDE0RTc3IiBmaWxsLXJ1bGU9ImV2ZW5vZGQiLz48dGV4dCBmaWxsPSIjRkZGRkZGIiBmb250LWZhbWlseT0iQ2VudHVyeSBHb3RoaWMsQ2VudHVyeSBHb3RoaWNfTVNGb250U2VydmljZSxzYW5zLXNlcmlmIiBmb250LXdlaWdodD0iNzAwIiBmb250LXNpemU9IjI0IiB0cmFuc2Zvcm09InRyYW5zbGF0ZSgxNzYuMjk1IDMwOCkiPnNlcXVlbmNlPC90ZXh0PjxwYXRoIGQ9Ik0xLjQ5OTktMC4wMTY5NjMxIDIuMDk2MDMgNTIuNjkzNi0wLjkwMzc3NSA1Mi43Mjc1LTEuNDk5OSAwLjAxNjk2MzFaTTUuMDc4ODggNTEuMTU5OCAwLjY4MDk0NSA2MC4yMTAxLTMuOTIwNTUgNTEuMjYxNVoiIGZpbGw9IiM0MTRFNzciIHRyYW5zZm9ybT0ibWF0cml4KC0xIC04Ljc0MjI4ZS0wOCAtOC43NDIyOGUtMDggMSAyMzEuMTgxIDIwNS41KSIvPjxwYXRoIGQ9Ik0yMzIgMzMzLjQ2NiAyMzIuNTA5IDM1NS43MTQgMjI5LjUxIDM1NS43ODMgMjI5IDMzMy41MzRaTTIzNS40NzQgMzU0LjE0NiAyMzEuMTgxIDM2My4yNDcgMjI2LjQ3NiAzNTQuMzUyWiIgZmlsbD0iIzQxNEU3NyIvPjxwYXRoIGQ9Ik0yMzMgNDAzLjQ3MiAyMzMuNTg0IDQzNC45NTkgMjMwLjU4NCA0MzUuMDE1IDIzMCA0MDMuNTI4Wk0yMzYuNTU1IDQzMy40MDQgMjMyLjIyMyA0NDIuNDg2IDIyNy41NTcgNDMzLjU3MVoiIGZpbGw9IiM0MTRFNzciLz48cGF0aCBkPSJNMjMzIDEyMS41IDIzMyAxNTguNDQyIDIzMCAxNTguNDQyIDIzMCAxMjEuNVpNMjM2IDE1Ni45NDIgMjMxLjUgMTY1Ljk0MiAyMjcgMTU2Ljk0MloiIGZpbGw9IiM0MTRFNzciLz48cGF0aCBkPSJNMS40OTk2OS0wLjAzMDUyNTUgMi4wMjgxMSAyNS45MzAzLTAuOTcxMjY3IDI1Ljk5MTQtMS40OTk2OSAwLjAzMDUyNTVaTTQuOTk2OTYgMjQuMzY5NiAwLjY4MTA1IDMzLjQ1OTMtNC4wMDExNyAyNC41NTI4WiIgZmlsbD0iIzQxNEU3NyIgdHJhbnNmb3JtPSJtYXRyaXgoLTEgLTguNzQyMjhlLTA4IC04Ljc0MjI4ZS0wOCAxIDIzMS4xODEgNjM5LjUpIi8+PHBhdGggZD0iTTMyMC41IDI5OCAzODIuNjgxIDI5OCAzODIuNjgxIDYyMC44NzcgMzY0LjY4MSA2MjAuODc3IDM2NC42ODEgNjE3Ljg3NyAzODEuMTgxIDYxNy44NzcgMzc5LjY4MSA2MTkuMzc3IDM3OS42ODEgMjk5LjUgMzgxLjE4MSAzMDEgMzIwLjUgMzAxWk0zNjYuMTgxIDYyMy44NzcgMzU3LjE4MSA2MTkuMzc3IDM2Ni4xODEgNjE0Ljg3N1oiIGZpbGw9IiM0MTRFNzciLz48cGF0aCBkPSJNLTAuMDAzNTAyNDMgMS41LTI0LjAwMDUgMS41LTIyLjUwMDUgMC0yMi41MDA1IDE1MC0yNC4wMDA1IDE0OC41IDMwOC4xMzEgMTQ4LjUgMzA2LjYzMSAxNTAgMzA2LjYzMSAwLjY4MDk0NSAzMDguMTMxIDIuMTgwOTQgMjkxLjYzIDIuMTgwOTQgMjkxLjYzLTAuODE5MDU1IDMwOS42MzEtMC44MTkwNTUgMzA5LjYzMSAxNTEuNS0yNS41MDA1IDE1MS41LTI1LjUwMDUtMS41IDAuMDAzNTAyNDMtMS41Wk0yOTMuMTMgNS4xODA5NCAyODQuMTMgMC42ODA5NDUgMjkzLjEzLTMuODE5MDZaIiBmaWxsPSIjNDE0RTc3IiB0cmFuc2Zvcm09Im1hdHJpeCgtNC4zNzExNGUtMDggLTEgLTEgNC4zNzExNGUtMDggMjMxLjE4MSA1NDkuNjMpIi8+PHRleHQgZmlsbD0iIzM3NEM4MSIgZm9udC1mYW1pbHk9IkNlbnR1cnkgR290aGljLENlbnR1cnkgR290aGljX01TRm9udFNlcnZpY2Usc2Fucy1zZXJpZiIgZm9udC13ZWlnaHQ9IjcwMCIgZm9udC1zaXplPSIyMSIgdHJhbnNmb3JtPSJ0cmFuc2xhdGUoMjQ3LjI3MSAzNDgpIj5uZXh0IGl0ZW08L3RleHQ+PHBhdGggZD0iTTE2NS41IDQ0Ny44MzNDMTY1LjUgNDQ0Ljg4OCAxNjcuODg4IDQ0Mi41IDE3MC44MzMgNDQyLjVMMjkyLjE2NyA0NDIuNUMyOTUuMTEyIDQ0Mi41IDI5Ny41IDQ0NC44ODggMjk3LjUgNDQ3LjgzM0wyOTcuNSA0NjkuMTY3QzI5Ny41IDQ3Mi4xMTIgMjk1LjExMiA0NzQuNSAyOTIuMTY3IDQ3NC41TDE3MC44MzMgNDc0LjVDMTY3Ljg4OCA0NzQuNSAxNjUuNSA0NzIuMTEyIDE2NS41IDQ2OS4xNjdaIiBzdHJva2U9IiM0NTdBNkQiIHN0cm9rZS13aWR0aD0iMS4zMzMzMyIgc3Ryb2tlLW1pdGVybGltaXQ9IjgiIGZpbGw9IiM2MUE3OTYiIGZpbGwtcnVsZT0iZXZlbm9kZCIvPjx0ZXh0IGZpbGw9IiNGRkZGRkYiIGZvbnQtZmFtaWx5PSJDZW50dXJ5IEdvdGhpYyxDZW50dXJ5IEdvdGhpY19NU0ZvbnRTZXJ2aWNlLHNhbnMtc2VyaWYiIGZvbnQtd2VpZ2h0PSI3MDAiIGZvbnQtc2l6ZT0iMjQiIHRyYW5zZm9ybT0idHJhbnNsYXRlKDE4MC4yMzcgNDY4KSI+Y29udGludWU8L3RleHQ+PHBhdGggZD0iTTAgMS41LTg0LjU4OTMgMS41LTgzLjA4OTMgMC04My4wODkzIDIxNi43MzItODQuNTg5MyAyMTUuMjMyIDY0LjY0MDEgMjE1LjIzMiA2My4xNDAxIDIxNi43MzIgNjMuMTQwMSAyMDAuMjMyIDY2LjE0MDEgMjAwLjIzMiA2Ni4xNDAxIDIxOC4yMzItODYuMDg5MyAyMTguMjMyLTg2LjA4OTMtMS41IDAtMS41Wk02MC4xNDAxIDIwMS43MzIgNjQuNjQwMSAxOTIuNzMyIDY5LjE0MDEgMjAxLjczMloiIGZpbGw9IiM0MTRFNzciIHRyYW5zZm9ybT0ibWF0cml4KDEgLTAgLTAgLTEgMTY1LjUgNDU4LjIzMykiLz48cGF0aCBkPSJNMS41LTIuNjEzMzFlLTA2IDEuNTAwMDggNDYuNzYwOC0xLjQ5OTkyIDQ2Ljc2MDgtMS41IDIuNjEzMzFlLTA2Wk03LjUwMDA4IDQ1LjI2MDggMC4wMDAxMDQ5ODcgNjAuMjYwOC03LjQ5OTkyIDQ1LjI2MDhaIiBmaWxsPSIjNDE0RTc3IiB0cmFuc2Zvcm09Im1hdHJpeCgxIDAgMCAtMSA4MS41MDAxIDQwNC43NjEpIi8+PHRleHQgZmlsbD0iIzM3NEM4MSIgZm9udC1mYW1pbHk9IkNlbnR1cnkgR290aGljLENlbnR1cnkgR290aGljX01TRm9udFNlcnZpY2Usc2Fucy1zZXJpZiIgZm9udC13ZWlnaHQ9IjcwMCIgZm9udC1zaXplPSIyMSIgdHJhbnNmb3JtPSJ0cmFuc2xhdGUoMzkyLjY0MyAzMjQpIj5ubyBtb3JlIGl0ZW1zIDx0c3BhbiB4PSIwIiB5PSIyNiI+aW4gdGhlIHNlcXVlbmNlPC90c3Bhbj48L3RleHQ+PC9nPjwvc3ZnPg=="
     ]
    }
   },
   "cell_type": "markdown",
   "metadata": {
    "cell_style": "split",
    "slideshow": {
     "slide_type": "slide"
    }
   },
   "source": [
    "## Break and Continue\n",
    "![continue.svg](attachment:continue.svg)\n",
    "\n",
    "When python sees continue statement in a loop, it ignores the statements after and continue the next iteration of the loop"
   ]
  },
  {
   "cell_type": "markdown",
   "metadata": {
    "cell_style": "split",
    "slideshow": {
     "slide_type": "fragment"
    }
   },
   "source": [
    "Loop over a list and print element, skipping integers."
   ]
  },
  {
   "cell_type": "code",
   "execution_count": 9,
   "metadata": {
    "ExecuteTime": {
     "end_time": "2020-09-18T03:53:17.283637Z",
     "start_time": "2020-09-18T03:53:17.277657Z"
    },
    "cell_style": "split",
    "slideshow": {
     "slide_type": "skip"
    }
   },
   "outputs": [
    {
     "name": "stdout",
     "output_type": "stream",
     "text": [
      "apple\n",
      "pear\n",
      "12.0\n"
     ]
    }
   ],
   "source": [
    "a=[0,'apple','pear',10,3,11,12.0]\n",
    "for x in a:\n",
    "    if type(x)==int:\n",
    "        continue\n",
    "    print(x) # this line will only be excuted if x is not integer"
   ]
  },
  {
   "cell_type": "markdown",
   "metadata": {
    "slideshow": {
     "slide_type": "slide"
    }
   },
   "source": [
    "## Indentation and nested code block\n",
    "Python indentation is a way of telling a Python interpreter that the group of statements belongs to a particular block of code. A block is a combination of all these statements with the same number of indent. Block can be regarded as the grouping of statements for a specific purpose.\n",
    "\n",
    "One can put block within another block by using the nested indentation\n",
    "\n",
    "```python\n",
    "statement1.1 #block1\n",
    "statement1.2\n",
    "if condition: #statement1.3 initiates a if block\n",
    "    statement2.1 #block2\n",
    "    statement2.2 \n",
    "    for x in sequence: #initials a for block WITHIN an if block\n",
    "        statement 3.1\n",
    "        statement 3.2 # the last line of the for block\n",
    "    statement2.3 #outside the for block but within the if block; has the same indentation as other statements in the if block\n",
    "statement1.3 # this is outside the if block and has the same indentation as statement 1.1 and 1.2\n",
    "```\n",
    "continue and break statement only affect the most inner loop that it is in"
   ]
  },
  {
   "cell_type": "code",
   "execution_count": 4,
   "metadata": {
    "slideshow": {
     "slide_type": "skip"
    }
   },
   "outputs": [
    {
     "name": "stdout",
     "output_type": "stream",
     "text": [
      "outer for loop\n",
      "inner for loop\n",
      "0 0\n",
      "inner for loop\n",
      "0 1\n",
      "inner for loop\n",
      "0 2\n",
      "inner for loop\n",
      "0 3\n",
      "outer for loop\n",
      "inner for loop\n",
      "1 0\n",
      "inner for loop\n",
      "1 1\n",
      "inner for loop\n",
      "1 2\n",
      "inner for loop\n",
      "1 3\n",
      "outer for loop\n",
      "inner for loop\n",
      "2 0\n",
      "inner for loop\n",
      "2 1\n",
      "inner for loop\n",
      "2 2\n",
      "inner for loop\n",
      "2 3\n",
      "outer for loop\n",
      "inner for loop\n",
      "3 0\n",
      "inner for loop\n",
      "3 1\n",
      "inner for loop\n",
      "3 2\n",
      "inner for loop\n",
      "3 3\n"
     ]
    }
   ],
   "source": [
    "for x in range(4):\n",
    "    print('outer for loop')\n",
    "    for y in range(4):\n",
    "        print('inner for loop')\n",
    "        print(x,y)"
   ]
  },
  {
   "cell_type": "code",
   "execution_count": null,
   "metadata": {
    "slideshow": {
     "slide_type": "skip"
    }
   },
   "outputs": [],
   "source": [
    "#how is this different from the previous code?\n",
    "for x in range(4):\n",
    "    print('outer for loop')\n",
    "    for y in range(4):\n",
    "        print('inner for loop')\n",
    "    print(x,y)"
   ]
  },
  {
   "cell_type": "code",
   "execution_count": null,
   "metadata": {
    "slideshow": {
     "slide_type": "skip"
    }
   },
   "outputs": [],
   "source": [
    "#how about this?\n",
    "for x in range(4):\n",
    "    print('outer for loop')\n",
    "    for y in range(4):\n",
    "        print('inner for loop')\n",
    "print(x,y)"
   ]
  },
  {
   "cell_type": "markdown",
   "metadata": {
    "slideshow": {
     "slide_type": "slide"
    }
   },
   "source": [
    "Exercise: find the first 100 prime numbers\n",
    "\n",
    "Try write the code without looking at the answer."
   ]
  },
  {
   "cell_type": "code",
   "execution_count": 6,
   "metadata": {
    "slideshow": {
     "slide_type": "skip"
    }
   },
   "outputs": [
    {
     "name": "stdout",
     "output_type": "stream",
     "text": [
      "[2, 3, 5, 7, 11, 13, 17, 19, 23, 29, 31, 37, 41, 43, 47, 53, 59, 61, 67, 71, 73, 79, 83, 89, 97, 101, 103, 107, 109, 113, 127, 131, 137, 139, 149, 151, 157, 163, 167, 173, 179, 181, 191, 193, 197, 199, 211, 223, 227, 229, 233, 239, 241, 251, 257, 263, 269, 271, 277, 281, 283, 293, 307, 311, 313, 317, 331, 337, 347, 349, 353, 359, 367, 373, 379, 383, 389, 397, 401, 409, 419, 421, 431, 433, 439, 443, 449, 457, 461, 463, 467, 479, 487, 491, 499, 503, 509, 521, 523, 541]\n"
     ]
    }
   ],
   "source": [
    "prime_list=[] #a list stores prime number\n",
    "trial_num=2\n",
    "while len(prime_list)<100:\n",
    "    #determine if the trial_num is prime and add it to the list \n",
    "    is_prime=True\n",
    "    for i in range(2,trial_num):\n",
    "        if trial_num%i==0: #dividable \n",
    "            is_prime=False\n",
    "            break #break the inner for loop\n",
    "    if is_prime:\n",
    "        prime_list.append(trial_num)\n",
    "    trial_num=trial_num+1\n",
    "print(prime_list)\n",
    "        \n",
    "        \n",
    "        "
   ]
  }
 ],
 "metadata": {
  "celltoolbar": "Slideshow",
  "kernelspec": {
   "display_name": "Python 3 (ipykernel)",
   "language": "python",
   "name": "python3"
  },
  "language_info": {
   "codemirror_mode": {
    "name": "ipython",
    "version": 3
   },
   "file_extension": ".py",
   "mimetype": "text/x-python",
   "name": "python",
   "nbconvert_exporter": "python",
   "pygments_lexer": "ipython3",
   "version": "3.9.12"
  },
  "latex_envs": {
   "LaTeX_envs_menu_present": true,
   "autoclose": false,
   "autocomplete": true,
   "bibliofile": "biblio.bib",
   "cite_by": "apalike",
   "current_citInitial": 1,
   "eqLabelWithNumbers": true,
   "eqNumInitial": 1,
   "hotkeys": {
    "equation": "Ctrl-E",
    "itemize": "Ctrl-I"
   },
   "labels_anchors": false,
   "latex_user_defs": false,
   "report_style_numbering": false,
   "user_envs_cfg": false
  },
  "varInspector": {
   "cols": {
    "lenName": 16,
    "lenType": 16,
    "lenVar": 40
   },
   "kernels_config": {
    "python": {
     "delete_cmd_postfix": "",
     "delete_cmd_prefix": "del ",
     "library": "var_list.py",
     "varRefreshCmd": "print(var_dic_list())"
    },
    "r": {
     "delete_cmd_postfix": ") ",
     "delete_cmd_prefix": "rm(",
     "library": "var_list.r",
     "varRefreshCmd": "cat(var_dic_list()) "
    }
   },
   "types_to_exclude": [
    "module",
    "function",
    "builtin_function_or_method",
    "instance",
    "_Feature"
   ],
   "window_display": false
  }
 },
 "nbformat": 4,
 "nbformat_minor": 4
}
