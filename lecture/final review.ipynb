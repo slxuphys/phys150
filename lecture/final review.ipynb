{
 "cells": [
  {
   "cell_type": "code",
   "execution_count": 1,
   "metadata": {
    "ExecuteTime": {
     "end_time": "2020-11-19T20:05:24.761066Z",
     "start_time": "2020-11-19T20:05:23.700575Z"
    }
   },
   "outputs": [],
   "source": [
    "import numpy as np"
   ]
  },
  {
   "attachments": {},
   "cell_type": "markdown",
   "metadata": {},
   "source": [
    "# Review for Final\n",
    "\n",
    "The final is Dec. 14 at 8:00 am.\n",
    "\n",
    "Open book\n",
    "\n",
    "You will need come to the class in PERSON to take the exam."
   ]
  },
  {
   "cell_type": "markdown",
   "metadata": {},
   "source": [
    "\n",
    "## Typesetting in Jupyter Notebook\n",
    "\n",
    "- basic formatting: bold, italicized, section title\n",
    "- bulleted list\n",
    "- typing equation use latex: inline equation, display equation\n",
    "\n",
    "$F=G\\frac{m_1 m_2}{r^2}$\n",
    "\n",
    "\\begin{equation}\n",
    "F=G\\frac{m_1 m_2}{r^2}\n",
    "\\end{equation}\n",
    "\n",
    "Practice:\n",
    "\n",
    "    Type Newton's law of universal gravitation\n",
    "    \n",
    "    Type Euler's method\n",
    "    \n",
    " "
   ]
  },
  {
   "cell_type": "markdown",
   "metadata": {},
   "source": [
    "## Python Variables: \n",
    "\n",
    "1. variable type:\n",
    "    \n",
    "    int, float, complex, string, boolean, list, tuple, set, dictionary, array(numpy)\n",
    "        \n",
    "    - create variables of different types\n",
    "    - check variable's type: type()\n",
    "    - check container's length: len()\n",
    "    - convert variable from one type to another when applicable\n",
    "    - difference between list, tuple, set, dictionary and array(numpy)            \n",
    "              \n",
    "2. mutability, id()\n",
    "        \n",
    "3. operations: +, -, *, /, //, %, in, not, and, or, ==,!= >, <, >=, <=\n",
    "\n",
    "4. accessing elements of string, list, tuple, array: the index starts from 0 and ends with length-1, \n",
    "\n",
    "    - a[start:end+1:step]\n",
    "\n",
    "          the nth element\n",
    "          the first n elements\n",
    "          the last n elements\n",
    "          every n elements\n",
    "          reverse order\n",
    "          elements from n to m\n",
    "          \n",
    "5. accessing elements of dictionary; adding new keys to dictionary   \n",
    "\n",
    "6. properties of set: no duplicate elements, union, intersection, difference, symmetric difference\n",
    "        \n",
    "7. commonly used methods and attributes of variables.\n",
    "\n",
    "       list.copy(), list.append()\n",
    "       complex.real, complex.imag, complex.conjugate()\n",
    "           \n",
    "           \n",
    "           "
   ]
  },
  {
   "cell_type": "markdown",
   "metadata": {},
   "source": [
    "### np array\n",
    "\n",
    "How is different from a list?"
   ]
  },
  {
   "cell_type": "code",
   "execution_count": 3,
   "metadata": {
    "ExecuteTime": {
     "end_time": "2020-11-19T20:06:33.831508Z",
     "start_time": "2020-11-19T20:06:33.819513Z"
    }
   },
   "outputs": [],
   "source": [
    "a_list=[1,2,3]\n",
    "b_list=[3,4,5]\n",
    "\n",
    "a_array=np.array(a_list)\n",
    "b_array=np.array(b_list)"
   ]
  },
  {
   "cell_type": "code",
   "execution_count": 6,
   "metadata": {
    "ExecuteTime": {
     "end_time": "2020-11-19T20:07:43.666767Z",
     "start_time": "2020-11-19T20:07:43.642725Z"
    }
   },
   "outputs": [
    {
     "name": "stdout",
     "output_type": "stream",
     "text": [
      "[1, 2, 3, 3, 4, 5]\n"
     ]
    }
   ],
   "source": [
    "print(a_list+b_list)"
   ]
  },
  {
   "cell_type": "code",
   "execution_count": 11,
   "metadata": {
    "ExecuteTime": {
     "end_time": "2020-11-19T20:10:33.632181Z",
     "start_time": "2020-11-19T20:10:33.623643Z"
    }
   },
   "outputs": [
    {
     "name": "stdout",
     "output_type": "stream",
     "text": [
      "[4 6 8]\n"
     ]
    }
   ],
   "source": [
    "## reason 1: they can be added/multiplied together element-wisely\n",
    "print(a_array+b_array)"
   ]
  },
  {
   "cell_type": "markdown",
   "metadata": {},
   "source": [
    "       \n",
    "## Flow control: \n",
    "1. understand why we need flow control\n",
    "\n",
    "1. Branching:\n",
    "    - if\n",
    "    - if else\n",
    "    - if elif else\n",
    "2. Loop:\n",
    "    - for \n",
    "    - while\n",
    "    - continue\n",
    "    - break\n",
    "    - range()\n",
    "        \n",
    "Practice:\n",
    "    \n",
    "    convert '1, 3, 10, 8, 11' to [1,3,10,8,11]\n",
    "    \n",
    "    check if a number is a prime\n",
    "    \n",
    "    find first n primes\n",
    "    \n",
    "    calculate factorial\n",
    "    \n",
    "    sum a series\n",
    "    \n",
    "    obtain the first n numbers in a sequence based the initial condition and some rules: Fibonacci sequence\n",
    "    \n",
    "    find the largest number in a numerical list without using the sort() method\n",
    "    \n",
    "    sort a list without using the sort() method\n",
    "    \n",
    " "
   ]
  },
  {
   "cell_type": "code",
   "execution_count": 3,
   "metadata": {},
   "outputs": [
    {
     "name": "stdout",
     "output_type": "stream",
     "text": [
      "[1, 3, 10, 8, 11]\n"
     ]
    }
   ],
   "source": [
    "a='1,3,10,8,11'.split(',')\n",
    "b=[]\n",
    "for x in a:\n",
    "    b.append(int(x))\n",
    "print(b)"
   ]
  },
  {
   "cell_type": "markdown",
   "metadata": {},
   "source": [
    "## Functions\n",
    "\n",
    "1. syntax\n",
    "2. input, output, default argument\n",
    "3. doc_string\n",
    "4. lambda function\n",
    "5. use a function as an input to another function\n",
    "\n",
    "Practice:\n",
    "\n",
    "    write a function to find first n primes\n",
    "\n",
    "        \n",
    "        "
   ]
  },
  {
   "cell_type": "markdown",
   "metadata": {},
   "source": [
    "## Class\n",
    "\n",
    "1. Understand what is python class and it is relation to variable type\n",
    "2. Write a simple class with class variables and methods"
   ]
  },
  {
   "cell_type": "markdown",
   "metadata": {},
   "source": [
    "        \n",
    "## Modules\n",
    "     \n",
    "1. import modules\n",
    "2. import modules with an alias\n",
    "3. import specific functions, constants, classes from a module\n",
    "4. make a module file"
   ]
  },
  {
   "cell_type": "markdown",
   "metadata": {},
   "source": [
    "## Plots and Animations\n",
    "\n",
    "1. make a plot\n",
    "2. add labels to the axis\n",
    "3. add the legend\n",
    "4. make an animation __(will be in the final)__\n",
    "\n",
    "practice: \n",
    "        \n",
    "        plot sin(x) for 0<x<2pi\n",
    "        \n",
    "        \n",
    "        make an animation of motions\n",
    "        "
   ]
  },
  {
   "cell_type": "markdown",
   "metadata": {},
   "source": [
    "## Function optimization and equation solving\n",
    "        \n",
    " 1. gradient descend\n",
    " 2. newton method\n",
    " 3. use scipy package\n",
    "        "
   ]
  },
  {
   "cell_type": "markdown",
   "metadata": {},
   "source": [
    "## Simulating Newtonian Dynamics: 1D, 2D, one-body, 2-body, 3-body\n",
    "\n",
    "  1. understand the Euler method\n",
    "  2. understand and write the code to simulate 1D motion with any force. oscillator\n",
    "  3. pool table, projectile motion \n",
    "  4. understand and use the code in the lecture notes on Newtonian Dynamics, including the Ball class and motion function\n",
    "  \n",
    "  Practice:\n",
    "  \n",
    "      Given the initial positions and velocities of 3-body problem, simulate and visualize their trajectory"
   ]
  },
  {
   "cell_type": "markdown",
   "metadata": {},
   "source": [
    "## Simulating logistic map, cellular automaton, Barnsley fern\n",
    "\n",
    "  1. understand how to apply simple rules to initial data and iterate. \n",
    "  \n",
    "  Practice:\n",
    "      \n",
    "      celluar automaton with different rules\n",
    "\n",
    " "
   ]
  }
 ],
 "metadata": {
  "kernelspec": {
   "display_name": "Python 3 (ipykernel)",
   "language": "python",
   "name": "python3"
  },
  "language_info": {
   "codemirror_mode": {
    "name": "ipython",
    "version": 3
   },
   "file_extension": ".py",
   "mimetype": "text/x-python",
   "name": "python",
   "nbconvert_exporter": "python",
   "pygments_lexer": "ipython3",
   "version": "3.9.12"
  },
  "varInspector": {
   "cols": {
    "lenName": 16,
    "lenType": 16,
    "lenVar": 40
   },
   "kernels_config": {
    "python": {
     "delete_cmd_postfix": "",
     "delete_cmd_prefix": "del ",
     "library": "var_list.py",
     "varRefreshCmd": "print(var_dic_list())"
    },
    "r": {
     "delete_cmd_postfix": ") ",
     "delete_cmd_prefix": "rm(",
     "library": "var_list.r",
     "varRefreshCmd": "cat(var_dic_list()) "
    }
   },
   "types_to_exclude": [
    "module",
    "function",
    "builtin_function_or_method",
    "instance",
    "_Feature"
   ],
   "window_display": false
  }
 },
 "nbformat": 4,
 "nbformat_minor": 4
}
