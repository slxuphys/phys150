{
 "cells": [
  {
   "cell_type": "markdown",
   "id": "562fadd2",
   "metadata": {},
   "source": [
    "# Homework 6 Due Oct. 12 (20pt)"
   ]
  },
  {
   "cell_type": "markdown",
   "id": "7323f0d2",
   "metadata": {},
   "source": [
    "Use what you have learned so far to make a text-based game. The game should involve branching and loops. Be creative!"
   ]
  }
 ],
 "metadata": {
  "kernelspec": {
   "display_name": "Python 3 (ipykernel)",
   "language": "python",
   "name": "python3"
  },
  "language_info": {
   "codemirror_mode": {
    "name": "ipython",
    "version": 3
   },
   "file_extension": ".py",
   "mimetype": "text/x-python",
   "name": "python",
   "nbconvert_exporter": "python",
   "pygments_lexer": "ipython3",
   "version": "3.9.12"
  }
 },
 "nbformat": 4,
 "nbformat_minor": 5
}
