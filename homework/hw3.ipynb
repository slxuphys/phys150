{
 "cells": [
  {
   "cell_type": "markdown",
   "metadata": {},
   "source": [
    "# Homework 3, Due on Sep. 21 (26pt)"
   ]
  },
  {
   "cell_type": "markdown",
   "metadata": {},
   "source": [
    "1. Explain the difference between mutability and immutability using coding examples. (5pts)\n",
    "\n",
    "---"
   ]
  },
  {
   "cell_type": "markdown",
   "metadata": {},
   "source": [
    "2. In the following code, what is the difference between a1 and a2? (2pts)\n",
    "\n",
    "```python\n",
    "    a=[1,3,2]\n",
    "    a1=a\n",
    "    a2=a.copy()\n",
    "```\n",
    "---"
   ]
  },
  {
   "cell_type": "markdown",
   "metadata": {},
   "source": [
    "3. Make a list containing three words. Then make a string from the list connecting the three words into a sentence. The code should work on __any__ list containing three words. (hint: you can use the join method of string type.) (3pts)\n",
    "\n",
    "_example_\n",
    "\n",
    "input: a=['Physics','is','fun!']\n",
    "\n",
    "output: 'Physics is fun!' \n",
    "\n",
    "---"
   ]
  },
  {
   "cell_type": "markdown",
   "metadata": {},
   "source": [
    "4. Make a list containing duplicated elements. Then create a new list that removes the duplicates. The code should work on __any__ list. (hint: set type can be helpful here) (4pts)\n",
    "\n",
    "&nbsp;&nbsp;&nbsp;&nbsp; _example_\n",
    "\n",
    "&nbsp;&nbsp;&nbsp;&nbsp;&nbsp;&nbsp; input: [1, 'Hello', 'Physics', 1, 'Physics, 20]\n",
    "\n",
    "&nbsp;&nbsp;&nbsp;&nbsp;&nbsp;&nbsp; output: [1, 'Hello', 'Physics', 20] (the order is not important)\n",
    "\n",
    "---"
   ]
  },
  {
   "cell_type": "markdown",
   "metadata": {},
   "source": [
    "5. Make two sets. Print their union to the screen. (2pts)\n",
    "---"
   ]
  },
  {
   "cell_type": "markdown",
   "metadata": {},
   "source": [
    "6. Make two lists. Check if they contain any common elememts. Print the result (True or False) to the screen. (hint: set type can be helpful here) (4pts)\n",
    "\n",
    "\n",
    "&nbsp;&nbsp;&nbsp;&nbsp; _example_\n",
    "\n",
    "&nbsp;&nbsp;&nbsp;&nbsp;&nbsp;&nbsp; 1. input: a=[1,3,9], b=[1,'hello','apple']\n",
    "\n",
    "&nbsp;&nbsp;&nbsp;&nbsp;&nbsp;&nbsp; output: True\n",
    "\n",
    "&nbsp;&nbsp;&nbsp;&nbsp;&nbsp;&nbsp; 2. input: a=[1,3,9], b=['strawberry', 10, 'orange']\n",
    "\n",
    "&nbsp;&nbsp;&nbsp;&nbsp;&nbsp;&nbsp; output: False\n",
    "\n",
    "---"
   ]
  },
  {
   "cell_type": "markdown",
   "metadata": {},
   "source": [
    "7. Make a container to organize the data of the 8 planets in the solar system. It should contain the name, the mass and the average distance to sun for each planet in the solar system. The data can be found on Wikipedia. Think about what is the best way to organize the data. Dictionary can be useful here. You can use a mix of different container types. Remember that a container can also have containers as its elements. (6pts)\n",
    "\n",
    "---"
   ]
  }
 ],
 "metadata": {
  "kernelspec": {
   "display_name": "Python 3 (ipykernel)",
   "language": "python",
   "name": "python3"
  },
  "language_info": {
   "codemirror_mode": {
    "name": "ipython",
    "version": 3
   },
   "file_extension": ".py",
   "mimetype": "text/x-python",
   "name": "python",
   "nbconvert_exporter": "python",
   "pygments_lexer": "ipython3",
   "version": "3.9.12"
  },
  "latex_envs": {
   "LaTeX_envs_menu_present": true,
   "autoclose": false,
   "autocomplete": true,
   "bibliofile": "biblio.bib",
   "cite_by": "apalike",
   "current_citInitial": 1,
   "eqLabelWithNumbers": true,
   "eqNumInitial": 1,
   "hotkeys": {
    "equation": "Ctrl-E",
    "itemize": "Ctrl-I"
   },
   "labels_anchors": false,
   "latex_user_defs": false,
   "report_style_numbering": false,
   "user_envs_cfg": false
  },
  "varInspector": {
   "cols": {
    "lenName": 16,
    "lenType": 16,
    "lenVar": 40
   },
   "kernels_config": {
    "python": {
     "delete_cmd_postfix": "",
     "delete_cmd_prefix": "del ",
     "library": "var_list.py",
     "varRefreshCmd": "print(var_dic_list())"
    },
    "r": {
     "delete_cmd_postfix": ") ",
     "delete_cmd_prefix": "rm(",
     "library": "var_list.r",
     "varRefreshCmd": "cat(var_dic_list()) "
    }
   },
   "types_to_exclude": [
    "module",
    "function",
    "builtin_function_or_method",
    "instance",
    "_Feature"
   ],
   "window_display": false
  }
 },
 "nbformat": 4,
 "nbformat_minor": 4
}
