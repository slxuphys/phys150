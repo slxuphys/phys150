{
 "cells": [
  {
   "cell_type": "markdown",
   "metadata": {},
   "source": [
    "# Homework 5 (30pt) Due Oct. 5"
   ]
  },
  {
   "cell_type": "markdown",
   "metadata": {},
   "source": [
    "1. Using loop to make a list that contains even integers [2, 4, 6, 8, ..., 2k], where k is predefined. You can start the code with\n",
    "```python\n",
    "    k=10\n",
    "```\n",
    "and the rest of code should only use k. (3pt)"
   ]
  },
  {
   "cell_type": "markdown",
   "metadata": {},
   "source": [
    "2. Find all the factors of a given integer and store them in a list. (3pt)"
   ]
  },
  {
   "cell_type": "markdown",
   "metadata": {},
   "source": [
    "2. Make you own list that only contains integers or decimal numbers. Find the largest number in the list using branching and loop. (5pt)"
   ]
  },
  {
   "cell_type": "markdown",
   "metadata": {},
   "source": [
    "3. Calculate $1 + 1/4 + 1/9 + 1/16 + 1/25 + ... + 1/n^2$ for n=1000 (5 pt)"
   ]
  },
  {
   "cell_type": "markdown",
   "metadata": {},
   "source": [
    "4. Check password: Input a password from the keyboard using input() function. Check if the password meets the following requirements. \n",
    "- at least 8 characters, at most 20 characters\n",
    "- at least one uppercase letter (A-Z)  \n",
    "- at least one number (0-9)\n",
    "- at least one special character from ! @ # $ % ^ & * ()\n",
    "\n",
    "__When it is a bad password, ask the user to input again and again until the password meets the requirement__. (8pt)\n",
    "\n",
    "you can use your code from hw3.\n",
    "\n",
    "_example_ :\n",
    "\n",
    "New password: lkjflksaj23\n",
    "\n",
    "bad passoword, input again\n",
    "\n",
    "New password: 1214e1af\n",
    "\n",
    "bad passoword, input again\n",
    "\n",
    "New password: 12124@24Gz\n",
    "\n",
    "good password"
   ]
  },
  {
   "cell_type": "markdown",
   "metadata": {},
   "source": [
    "5. Come up with an interesting coding task and solve it using loops. (5pt) (Leave the game for the next hw)"
   ]
  }
 ],
 "metadata": {
  "kernelspec": {
   "display_name": "Python 3 (ipykernel)",
   "language": "python",
   "name": "python3"
  },
  "language_info": {
   "codemirror_mode": {
    "name": "ipython",
    "version": 3
   },
   "file_extension": ".py",
   "mimetype": "text/x-python",
   "name": "python",
   "nbconvert_exporter": "python",
   "pygments_lexer": "ipython3",
   "version": "3.9.12"
  },
  "varInspector": {
   "cols": {
    "lenName": 16,
    "lenType": 16,
    "lenVar": 40
   },
   "kernels_config": {
    "python": {
     "delete_cmd_postfix": "",
     "delete_cmd_prefix": "del ",
     "library": "var_list.py",
     "varRefreshCmd": "print(var_dic_list())"
    },
    "r": {
     "delete_cmd_postfix": ") ",
     "delete_cmd_prefix": "rm(",
     "library": "var_list.r",
     "varRefreshCmd": "cat(var_dic_list()) "
    }
   },
   "types_to_exclude": [
    "module",
    "function",
    "builtin_function_or_method",
    "instance",
    "_Feature"
   ],
   "window_display": false
  }
 },
 "nbformat": 4,
 "nbformat_minor": 4
}
