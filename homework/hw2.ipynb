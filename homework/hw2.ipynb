{
 "cells": [
  {
   "cell_type": "markdown",
   "metadata": {},
   "source": [
    "# Homework 2, due on Sep 11\n",
    "Each question worths 2pt, 22 in total."
   ]
  },
  {
   "cell_type": "markdown",
   "metadata": {},
   "source": [
    "__1__. Create 6 different variable of integer, float, complex, str, boolen and none types. Using the function __type__ to confirm their types."
   ]
  },
  {
   "cell_type": "markdown",
   "metadata": {},
   "source": [
    "__2__. Input a string. Make a new string links 5 copy of the input string together. Print the string to the screen. \n",
    "\n",
    "_example_\n",
    "\n",
    "input: abc\n",
    "\n",
    "output: abcabcabcabcabc"
   ]
  },
  {
   "cell_type": "markdown",
   "metadata": {},
   "source": [
    "__3__. Input two strings. Make a new string variable that links the two string together. Print the new string to the screen. "
   ]
  },
  {
   "cell_type": "markdown",
   "metadata": {},
   "source": [
    "__4__. Input a string. Print the string to the screen in reverse order."
   ]
  },
  {
   "cell_type": "markdown",
   "metadata": {},
   "source": [
    "__5__. Input a string. Print every other 3 characters in the string to the screen."
   ]
  },
  {
   "cell_type": "markdown",
   "metadata": {},
   "source": [
    "__6__. Input a string containing the letter 'a'. Make a new string that replace all 'a' in the input string to 'A'. Print the new string to the screen."
   ]
  },
  {
   "cell_type": "markdown",
   "metadata": {},
   "source": [
    "__7__. Input two numbers. Print their sum to the screen. (_Hint Inputs from keyboard are recognized as strings. You need convert the string to a number before performing arithmatics._ ) "
   ]
  },
  {
   "cell_type": "markdown",
   "metadata": {},
   "source": [
    "__8__. Input two numbers. Check if their product equals 10. Print the result to the screen. "
   ]
  },
  {
   "cell_type": "markdown",
   "metadata": {},
   "source": [
    "__9__. Input a decimal number. Print the integer part and the fractional part to the screen\n",
    "\n",
    "_example_\n",
    "\n",
    "input: 3.14\n",
    "\n",
    "output: the integer part is 3, the fractional part is 0.14."
   ]
  },
  {
   "cell_type": "code",
   "execution_count": 1,
   "metadata": {},
   "outputs": [
    {
     "name": "stdout",
     "output_type": "stream",
     "text": [
      "the integer part is 3, and the fractional part is 0.14\n"
     ]
    }
   ],
   "source": [
    "##A Wrong Example\n",
    "a = 3.14\n",
    "print('the integer part is 3, and the fractional part is 0.14')\n",
    "## you need to use programming to get the integer part and fractional part"
   ]
  },
  {
   "cell_type": "markdown",
   "metadata": {},
   "source": [
    "__10__. Input a complex number. Print the sum of the real part and the imaginary part."
   ]
  },
  {
   "cell_type": "markdown",
   "metadata": {},
   "source": [
    "__11__. An object moves at velocity v in the unit of m/s for time t in the unit of second. Input the name of the object, the value of the velocity, the value of time. Calculate the distance and print the result to the screen.\n",
    "\n",
    "_example_\n",
    "\n",
    "input: ball, 2, 5\n",
    "\n",
    "output: the ball moves 10 meters in total.\n"
   ]
  }
 ],
 "metadata": {
  "kernelspec": {
   "display_name": "Python 3 (ipykernel)",
   "language": "python",
   "name": "python3"
  },
  "language_info": {
   "codemirror_mode": {
    "name": "ipython",
    "version": 3
   },
   "file_extension": ".py",
   "mimetype": "text/x-python",
   "name": "python",
   "nbconvert_exporter": "python",
   "pygments_lexer": "ipython3",
   "version": "3.9.12"
  }
 },
 "nbformat": 4,
 "nbformat_minor": 4
}
