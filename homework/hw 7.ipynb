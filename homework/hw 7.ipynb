{
 "cells": [
  {
   "cell_type": "markdown",
   "id": "7e9acc77",
   "metadata": {},
   "source": [
    "# HW 7 Due Oct. 26 (24pt)"
   ]
  },
  {
   "cell_type": "markdown",
   "id": "ddb78f14",
   "metadata": {},
   "source": [
    "1. Make a list containing first N=100 numbers in the Fibonacci sequence. In the Fibonacci sequence, the nth number $a_n = a_{n-1} + a_{n-2}$. The first few numbers in the sequence is 0, 1, 1, 2, 3, 5, 8.\n",
    "\n",
    "    Based on the iteration rule, we have $1=1+0$, $2=1+1$, $3=2+1$, $5=3+2$, $8=5+3$. The next number would be $13$, which is $8+5$. \n",
    "    \n",
    "    You should see the pattern now. Using loop to generate first 100 numbers in the Fibonacci sequence and store them in a list. (3pt)"
   ]
  },
  {
   "cell_type": "markdown",
   "id": "e5c6a3ec",
   "metadata": {},
   "source": [
    "2. Write a function check_prime to check whether a number is a prime number. Then write another function find_prime to find the first n prime numbers and store them in a list. (5pt)"
   ]
  },
  {
   "cell_type": "markdown",
   "id": "fe61a631",
   "metadata": {},
   "source": [
    "3. Write a function check_perfect to check whether a number is perfect. A perfect number is a positive integer that equals the sum of all of its divisors except itself. For example, 6=1+2+3, 28 = 1+2+4+7+14. (5pt)"
   ]
  },
  {
   "cell_type": "markdown",
   "id": "16b396dd",
   "metadata": {},
   "source": [
    "4. Use a loop to find the first 4 perfect numbers. (3pt)\n",
    "\n",
    "    optional: can you find the 5th one?"
   ]
  },
  {
   "cell_type": "markdown",
   "id": "7318b78f",
   "metadata": {},
   "source": [
    "5. In the lecture, we talked about simulating free fall problem using the following code."
   ]
  },
  {
   "cell_type": "code",
   "execution_count": 3,
   "id": "ee5633e4",
   "metadata": {},
   "outputs": [
    {
     "data": {
      "text/plain": [
       "Text(0, 0.5, 'position')"
      ]
     },
     "execution_count": 3,
     "metadata": {},
     "output_type": "execute_result"
    },
    {
     "data": {
      "image/png": "[encoded data removed]",
      "text/plain": [
       "<Figure size 432x288 with 1 Axes>"
      ]
     },
     "metadata": {
      "needs_background": "light"
     },
     "output_type": "display_data"
    }
   ],
   "source": [
    "import matplotlib.pyplot as plt\n",
    "t=0.0\n",
    "v=0.0\n",
    "a=-10 #the gravitational constant\n",
    "pos=20 #initial height\n",
    "time_list=[t]\n",
    "pos_list=[pos]\n",
    "t_max=3\n",
    "num_step=100\n",
    "dt=t_max/num_step\n",
    "\n",
    "for i_step in range(num_step):\n",
    "    t=t+dt\n",
    "    v=v+a*dt\n",
    "    pos=pos+v*dt\n",
    "    \n",
    "    time_list.append(t)\n",
    "    pos_list.append(pos)\n",
    "\n",
    "plt.plot(time_list, pos_list)\n",
    "plt.xlabel('time')\n",
    "plt.ylabel('position')"
   ]
  },
  {
   "cell_type": "markdown",
   "id": "fc092b0c",
   "metadata": {},
   "source": [
    "The code simulates a free fall on earth at 20 meters above the ground. \n",
    "\n",
    "Modify the above code, so that the simulation terminates once the ball hits the ground. Plot the position a function of time. Hint: using break statement (5pt)"
   ]
  },
  {
   "cell_type": "markdown",
   "id": "b7eb6c20",
   "metadata": {},
   "source": [
    "6. Repeat the above simulation but free fall on Mars. You need look up gravitational constant on Mars. (3pt)"
   ]
  }
 ],
 "metadata": {
  "kernelspec": {
   "display_name": "Python 3 (ipykernel)",
   "language": "python",
   "name": "python3"
  },
  "language_info": {
   "codemirror_mode": {
    "name": "ipython",
    "version": 3
   },
   "file_extension": ".py",
   "mimetype": "text/x-python",
   "name": "python",
   "nbconvert_exporter": "python",
   "pygments_lexer": "ipython3",
   "version": "3.9.12"
  }
 },
 "nbformat": 4,
 "nbformat_minor": 5
}
