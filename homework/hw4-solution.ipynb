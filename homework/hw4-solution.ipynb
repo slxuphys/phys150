{
 "cells": [
  {
   "cell_type": "markdown",
   "id": "88565487",
   "metadata": {},
   "source": [
    "# Homework 4 Due 9.28 "
   ]
  },
  {
   "cell_type": "markdown",
   "id": "a74e02f8",
   "metadata": {},
   "source": [
    "1. Explain the difference between a list and a numpy array using coding examples. (4pt)"
   ]
  },
  {
   "cell_type": "markdown",
   "id": "95a2cb53",
   "metadata": {},
   "source": [
    "2. Input a integer number using input() function. Check if the number is even or odd and print a message.  (2pt)"
   ]
  },
  {
   "cell_type": "markdown",
   "id": "0d436c3f",
   "metadata": {},
   "source": [
    "3. Make a program converting miles to kilometers and vice versa. Use __one__ input() function for input. When the user input is distance in miles (a number followed by mi), convert it to kilometers. When the user inputs is distance in kilemeters (a number followed by km), convert it to miles. Print the result to the screen. If the user input neither ends with 'mi' or 'km', print \"incorrect format\". (Hint: Recall that you can get the last two characters of a string a by a[-2:] and everything before the last two characters by a[:-2] ) (5pt)\n",
    "\n",
    "_example_ :\n",
    "\n",
    "input: 1 mi\n",
    "\n",
    "output: 1.60 km\n",
    "\n",
    "input: 1 km\n",
    "output: 0.62 mi\n",
    "\n",
    "input: 1 m\n",
    "output: incorrect format"
   ]
  },
  {
   "cell_type": "code",
   "execution_count": 6,
   "id": "704bf3ae",
   "metadata": {},
   "outputs": [
    {
     "name": "stdout",
     "output_type": "stream",
     "text": [
      "input a distance in mi or km:1.62km\n",
      "1.0044mi\n"
     ]
    }
   ],
   "source": [
    "user_input = input('input a distance in mi or km:')\n",
    "unit = user_input[-2:]\n",
    "num = float(user_input[:-2])\n",
    "if unit == 'km':\n",
    "    print(f'{0.62*num}mi')\n",
    "elif unit == 'mi':\n",
    "    print(f'{1.6*num}km')\n",
    "else:\n",
    "    print('incorrect format')"
   ]
  },
  {
   "cell_type": "markdown",
   "id": "cd18b228",
   "metadata": {},
   "source": [
    "4. Check password: Input a password from the keyboard using input() function. Check if the password meets the following requirements. (8pt)\n",
    "- at least 8 characters, at most 20 characters\n",
    "- at least one uppercase letter (A-Z)  \n",
    "- at least one number (0-9)\n",
    "- at least one special character from ! @ # $ % ^ & * ()\n",
    "\n",
    "Print \"valid password\" if the password meets all the requirements and print \"invalid password\" otherwise"
   ]
  },
  {
   "cell_type": "code",
   "execution_count": 9,
   "id": "08b8a548",
   "metadata": {},
   "outputs": [
    {
     "name": "stdout",
     "output_type": "stream",
     "text": [
      "input a password:Hello32@dfda\n",
      "valid password\n"
     ]
    }
   ],
   "source": [
    "pwd = input('input a password:')\n",
    "check_len = len(pwd)>=8 and len(pwd)<=20\n",
    "check_upper = not set(pwd).isdisjoint(set('ABCDEFGHILKLMNOPQRSTUVWXYZ'))\n",
    "check_num = not set(pwd).isdisjoint(set('0123456789'))\n",
    "check_sp =  not set(pwd).isdisjoint(set('!@#$%^&*()'))\n",
    "\n",
    "if check_len and check_upper and check_num and check_sp:\n",
    "    print('valid password')\n",
    "else:\n",
    "    print('invalid password')"
   ]
  },
  {
   "cell_type": "markdown",
   "id": "f9d643f8",
   "metadata": {},
   "source": [
    "5. Come up with an interesting coding problem and solve it using branching. Be creative! (4pt)"
   ]
  }
 ],
 "metadata": {
  "kernelspec": {
   "display_name": "Python 3 (ipykernel)",
   "language": "python",
   "name": "python3"
  },
  "language_info": {
   "codemirror_mode": {
    "name": "ipython",
    "version": 3
   },
   "file_extension": ".py",
   "mimetype": "text/x-python",
   "name": "python",
   "nbconvert_exporter": "python",
   "pygments_lexer": "ipython3",
   "version": "3.9.12"
  }
 },
 "nbformat": 4,
 "nbformat_minor": 5
}
