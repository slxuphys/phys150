{
 "cells": [
  {
   "cell_type": "markdown",
   "id": "0d163312",
   "metadata": {},
   "source": [
    "# HW 8 Due Nov. 6"
   ]
  },
  {
   "cell_type": "markdown",
   "id": "40449bb7",
   "metadata": {},
   "source": [
    "1. Check password with a function: write a function to check if the password meets the following requirements. (6pt)\n",
    "    - at least 8 characters, at most 20 characters\n",
    "    - at least one uppercase letter (A-Z)  \n",
    "    - at least one number (0-9)\n",
    "    - at least one special character from ! @ # $ % ^ & * ()\n",
    "\n",
    "    __The function should take a password as an argument and return true or false.__\n"
   ]
  },
  {
   "cell_type": "markdown",
   "id": "4989a324",
   "metadata": {},
   "source": [
    "2. Use the function your wrote for the last problem in a while loop to ask a user to keep inputing a password until it is valid. (4pt)"
   ]
  },
  {
   "cell_type": "markdown",
   "id": "fb46c0fa",
   "metadata": {},
   "source": [
    "3. Simulate the projectile motion of a ball with initial horizontal velocity $v_x = 3 m/s$ and vertical velocity $v_y = 4 m/s$, the gravitational constant is $g=-10 m/s^2$. Plot the trajectory before the ball hitting the ground. (6pt)"
   ]
  },
  {
   "attachments": {
    "image.png": {
     "image/png": "[encoded data removed]"
    }
   },
   "cell_type": "markdown",
   "id": "593968f4",
   "metadata": {},
   "source": [
    "4.  Repeat the previous problem with same the initial speed $v=5m/s$, but different launching angles. (You can put the main code in a function that takes the speed and angle as arguments) (4pt)\n",
    "![image.png](attachment:image.png)\n",
    "Given a launching angle $\\theta$, the initial $v_x$ and $v_y$ are $$v_x = v\\cos\\theta, \\quad  v_y = v\\sin\\theta$$\n",
    "You can import cos() and sin() function from the math module or the numpy module.\n",
    "Try different angles see which leads to furthest travel distance."
   ]
  },
  {
   "cell_type": "markdown",
   "id": "04c56e10",
   "metadata": {},
   "source": [
    "5. Make a python class that does something interesting, like the Dog class and Ball class in the lecture. Give your class some attributes and methods. (5pt)"
   ]
  }
 ],
 "metadata": {
  "kernelspec": {
   "display_name": "Python 3 (ipykernel)",
   "language": "python",
   "name": "python3"
  },
  "language_info": {
   "codemirror_mode": {
    "name": "ipython",
    "version": 3
   },
   "file_extension": ".py",
   "mimetype": "text/x-python",
   "name": "python",
   "nbconvert_exporter": "python",
   "pygments_lexer": "ipython3",
   "version": "3.9.12"
  }
 },
 "nbformat": 4,
 "nbformat_minor": 5
}
