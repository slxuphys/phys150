{
 "cells": [
  {
   "cell_type": "markdown",
   "id": "7e9acc77",
   "metadata": {},
   "source": [
    "# HW 7 Due Oct. 26 (24pt)"
   ]
  },
  {
   "cell_type": "markdown",
   "id": "ddb78f14",
   "metadata": {},
   "source": [
    "1. Make a list containing first N=100 numbers in the Fibonacci sequence. In the Fibonacci sequence, the nth number $a_n = a_{n-1} + a_{n-2}$. The first few numbers in the sequence is 0, 1, 1, 2, 3, 5, 8.\n",
    "\n",
    "    Based on the iteration rule, we have $1=1+0$, $2=1+1$, $3=2+1$, $5=3+2$, $8=5+3$. The next number would be $13$, which is $8+5$. \n",
    "    \n",
    "    You should see the pattern now. Using loop to generate first 100 numbers in the Fibonacci sequence and store them in a list. (3pt)"
   ]
  },
  {
   "cell_type": "code",
   "execution_count": 1,
   "id": "fca7e6d5",
   "metadata": {},
   "outputs": [
    {
     "name": "stdout",
     "output_type": "stream",
     "text": [
      "[0, 1, 1, 2, 3, 5, 8, 13, 21, 34, 55, 89, 144, 233, 377, 610, 987, 1597, 2584, 4181, 6765, 10946, 17711, 28657, 46368, 75025, 121393, 196418, 317811, 514229, 832040, 1346269, 2178309, 3524578, 5702887, 9227465, 14930352, 24157817, 39088169, 63245986, 102334155, 165580141, 267914296, 433494437, 701408733, 1134903170, 1836311903, 2971215073, 4807526976, 7778742049, 12586269025, 20365011074, 32951280099, 53316291173, 86267571272, 139583862445, 225851433717, 365435296162, 591286729879, 956722026041, 1548008755920, 2504730781961, 4052739537881, 6557470319842, 10610209857723, 17167680177565, 27777890035288, 44945570212853, 72723460248141, 117669030460994, 190392490709135, 308061521170129, 498454011879264, 806515533049393, 1304969544928657, 2111485077978050, 3416454622906707, 5527939700884757, 8944394323791464, 14472334024676221, 23416728348467685, 37889062373143906, 61305790721611591, 99194853094755497, 160500643816367088, 259695496911122585, 420196140727489673, 679891637638612258, 1100087778366101931, 1779979416004714189, 2880067194370816120, 4660046610375530309, 7540113804746346429, 12200160415121876738, 19740274219868223167, 31940434634990099905, 51680708854858323072, 83621143489848422977, 135301852344706746049, 218922995834555169026]\n"
     ]
    }
   ],
   "source": [
    "fib_list=[0,1]\n",
    "n=100\n",
    "while len(fib_list)<100:\n",
    "    fib_list.append(fib_list[-1]+fib_list[-2])\n",
    "print(fib_list)"
   ]
  },
  {
   "cell_type": "markdown",
   "id": "e5c6a3ec",
   "metadata": {},
   "source": [
    "2. Write a function check_prime to check whether a number is a prime number. Then write another function find_prime to find the first n prime numbers and store them in a list. (5pt)"
   ]
  },
  {
   "cell_type": "code",
   "execution_count": 5,
   "id": "702d3c82",
   "metadata": {},
   "outputs": [],
   "source": [
    "def check_prime(n):\n",
    "    for i in range(2,n):\n",
    "        if n%i==0:\n",
    "            return False\n",
    "    return True"
   ]
  },
  {
   "cell_type": "code",
   "execution_count": 11,
   "id": "c24f6ebe",
   "metadata": {},
   "outputs": [],
   "source": [
    "def find_prime(n):\n",
    "    prime_list=[]\n",
    "    num=2\n",
    "    while len(prime_list)<n:\n",
    "        if check_prime(num):\n",
    "            prime_list.append(num)\n",
    "        num=num+1\n",
    "    return prime_list\n",
    "        "
   ]
  },
  {
   "cell_type": "code",
   "execution_count": 12,
   "id": "7c8cd385",
   "metadata": {},
   "outputs": [
    {
     "data": {
      "text/plain": [
       "[2, 3, 5, 7, 11, 13, 17, 19, 23, 29]"
      ]
     },
     "execution_count": 12,
     "metadata": {},
     "output_type": "execute_result"
    }
   ],
   "source": [
    "find_prime(10)"
   ]
  },
  {
   "cell_type": "markdown",
   "id": "fe61a631",
   "metadata": {},
   "source": [
    "3. Write a function check_perfect to check whether a number is perfect. A perfect number is a positive integer that equals the sum of all of its divisors except itself. For example, 6=1+2+3, 28 = 1+2+4+7+14. (5pt)"
   ]
  },
  {
   "cell_type": "code",
   "execution_count": 15,
   "id": "439dee90",
   "metadata": {},
   "outputs": [],
   "source": [
    "def check_perfect(n):\n",
    "    f=0\n",
    "    for factor in range(1,n):\n",
    "        if n%factor==0:\n",
    "            f = f + factor \n",
    "    return f==n"
   ]
  },
  {
   "cell_type": "markdown",
   "id": "16b396dd",
   "metadata": {},
   "source": [
    "4. Use a loop to find the first 4 perfect numbers. (3pt)\n",
    "\n",
    "    optional: can you find the 5th one?"
   ]
  },
  {
   "cell_type": "code",
   "execution_count": 22,
   "id": "333a12bc",
   "metadata": {},
   "outputs": [],
   "source": [
    "def find_perfect(n):\n",
    "    perfect_list=[]\n",
    "    num=2\n",
    "    while len(perfect_list)<n:\n",
    "        if check_perfect(num):\n",
    "            perfect_list.append(num)\n",
    "        num=num+1\n",
    "    return perfect_list"
   ]
  },
  {
   "cell_type": "code",
   "execution_count": 23,
   "id": "34cbe460",
   "metadata": {},
   "outputs": [
    {
     "data": {
      "text/plain": [
       "[6, 28, 496, 8128]"
      ]
     },
     "execution_count": 23,
     "metadata": {},
     "output_type": "execute_result"
    }
   ],
   "source": [
    "find_perfect(4)"
   ]
  },
  {
   "cell_type": "markdown",
   "id": "7318b78f",
   "metadata": {},
   "source": [
    "5. In the lecture, we talked about simulating free fall problem using the following code."
   ]
  },
  {
   "cell_type": "code",
   "execution_count": 3,
   "id": "ee5633e4",
   "metadata": {},
   "outputs": [
    {
     "data": {
      "text/plain": [
       "Text(0, 0.5, 'position')"
      ]
     },
     "execution_count": 3,
     "metadata": {},
     "output_type": "execute_result"
    },
    {
     "data": {
      "image/png": "[encoded data removed]",
      "text/plain": [
       "<Figure size 432x288 with 1 Axes>"
      ]
     },
     "metadata": {
      "needs_background": "light"
     },
     "output_type": "display_data"
    }
   ],
   "source": [
    "import matplotlib.pyplot as plt\n",
    "t=0.0\n",
    "v=0.0\n",
    "a=-10 #the gravitational constant\n",
    "pos=20 #initial height\n",
    "time_list=[t]\n",
    "pos_list=[pos]\n",
    "t_max=3\n",
    "num_step=100\n",
    "dt=t_max/num_step\n",
    "\n",
    "for i_step in range(num_step):\n",
    "    t=t+dt\n",
    "    v=v+a*dt\n",
    "    pos=pos+v*dt\n",
    "    \n",
    "    time_list.append(t)\n",
    "    pos_list.append(pos)\n",
    "\n",
    "plt.plot(time_list, pos_list)\n",
    "plt.xlabel('time')\n",
    "plt.ylabel('position')"
   ]
  },
  {
   "cell_type": "code",
   "execution_count": 24,
   "id": "df6ff981",
   "metadata": {},
   "outputs": [
    {
     "data": {
      "text/plain": [
       "Text(0, 0.5, 'position')"
      ]
     },
     "execution_count": 24,
     "metadata": {},
     "output_type": "execute_result"
    },
    {
     "data": {
      "image/png": "[encoded data removed]",
      "text/plain": [
       "<Figure size 432x288 with 1 Axes>"
      ]
     },
     "metadata": {
      "needs_background": "light"
     },
     "output_type": "display_data"
    }
   ],
   "source": [
    "import matplotlib.pyplot as plt\n",
    "t=0.0\n",
    "v=0.0\n",
    "a=-10 #the gravitational constant\n",
    "pos=20 #initial height\n",
    "time_list=[t]\n",
    "pos_list=[pos]\n",
    "t_max=3\n",
    "num_step=100\n",
    "dt=t_max/num_step\n",
    "\n",
    "for i_step in range(num_step):\n",
    "    t=t+dt\n",
    "    v=v+a*dt\n",
    "    pos=pos+v*dt\n",
    "    if pos<0:\n",
    "        break\n",
    "    time_list.append(t)\n",
    "    pos_list.append(pos)\n",
    "\n",
    "plt.plot(time_list, pos_list)\n",
    "plt.xlabel('time')\n",
    "plt.ylabel('position')"
   ]
  },
  {
   "cell_type": "markdown",
   "id": "fc092b0c",
   "metadata": {},
   "source": [
    "The code simulates a free fall on earth at 20 meters above the ground. \n",
    "\n",
    "Modify the above code, so that the simulation terminates once the ball hits the ground. Plot the position a function of time. Hint: using break statement (5pt)"
   ]
  },
  {
   "cell_type": "markdown",
   "id": "b7eb6c20",
   "metadata": {},
   "source": [
    "6. Repeat the above simulation but free fall on Mars. You need look up gravitational constant on Mars. (3pt)"
   ]
  }
 ],
 "metadata": {
  "kernelspec": {
   "display_name": "Python 3 (ipykernel)",
   "language": "python",
   "name": "python3"
  },
  "language_info": {
   "codemirror_mode": {
    "name": "ipython",
    "version": 3
   },
   "file_extension": ".py",
   "mimetype": "text/x-python",
   "name": "python",
   "nbconvert_exporter": "python",
   "pygments_lexer": "ipython3",
   "version": "3.9.12"
  }
 },
 "nbformat": 4,
 "nbformat_minor": 5
}
