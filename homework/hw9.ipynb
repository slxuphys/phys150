{
 "cells": [
  {
   "cell_type": "markdown",
   "id": "9c618f82",
   "metadata": {},
   "source": [
    "## HW 9, Due Nov 13 (20pt)"
   ]
  },
  {
   "cell_type": "markdown",
   "id": "76a317f0",
   "metadata": {},
   "source": [
    "1. Write a function that output the first n numbers, storing in a list,  in the sequence given by the following iteration rules, \n",
    "\n",
    "\\begin{equation}\n",
    "x_{n+1} = r x_{n} (1-x_n)\n",
    "\\end{equation}\n",
    "\n",
    "\n",
    "where $r$ and $x_0$ should be given as the input of the function. This is called [logistic map ](https://en.wikipedia.org/wiki/Bifurcation_diagram). (4pt)"
   ]
  },
  {
   "cell_type": "markdown",
   "id": "43d6a236",
   "metadata": {},
   "source": [
    "2. To understand why the logistic map is interesting, follow these steps\n",
    "\n",
    "   a) Choose two very close initial x0, say 0.3 and 0.301 and set r=2.2. Use the function written in the last problem to get a list of first 100 numbers in the sequence for each initial conditions. Plot the two lists in a figure with title 'r=2.2', xlable 'number of iterations' and ylabel 'x'.\n",
    "    \n",
    "   b) Choose the same two initial conditions but for r=3.2. Plot the results again.\n",
    "    \n",
    "   c) Choose the same two initial conditions but for r=3.8. Plot the results again.\n",
    "    \n",
    "   How does the three cases different from each other? Do the two very close initial conditions lead to similar curves? (6pt)"
   ]
  },
  {
   "cell_type": "markdown",
   "id": "f677e080",
   "metadata": {},
   "source": [
    "3. Write a function that simulates a ball moving on the pool table. (Check previous lecture notes) (5pt)"
   ]
  },
  {
   "cell_type": "markdown",
   "id": "f0fd7cc7",
   "metadata": {},
   "source": [
    "4. Make an animation of the simulation. (5pt) The final exam will have a problem on animation. Please make sure you know how to do it."
   ]
  }
 ],
 "metadata": {
  "kernelspec": {
   "display_name": "Python 3 (ipykernel)",
   "language": "python",
   "name": "python3"
  },
  "language_info": {
   "codemirror_mode": {
    "name": "ipython",
    "version": 3
   },
   "file_extension": ".py",
   "mimetype": "text/x-python",
   "name": "python",
   "nbconvert_exporter": "python",
   "pygments_lexer": "ipython3",
   "version": "3.9.12"
  }
 },
 "nbformat": 4,
 "nbformat_minor": 5
}
